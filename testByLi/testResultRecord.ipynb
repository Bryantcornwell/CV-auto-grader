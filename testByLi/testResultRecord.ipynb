{
 "cells": [
  {
   "cell_type": "markdown",
   "id": "fa79bf3e",
   "metadata": {},
   "source": [
    " <img width=\"1174\" alt=\"c-33\" src=\"https://media.github.iu.edu/user/18596/files/ad8fc77a-514e-44a3-84b0-e3bc0e8ba3ff\">\n",
    "<img width=\"1171\" alt=\"b-27\" src=\"https://media.github.iu.edu/user/18596/files/45a1b319-2ccb-4127-b5db-b4c735c46a9c\">\n",
    "<img width=\"1215\" alt=\"b-13\" src=\"https://media.github.iu.edu/user/18596/files/ff3cff47-f154-4000-b69b-48ef75c609c9\">"
   ]
  },
  {
   "cell_type": "code",
   "execution_count": null,
   "id": "7657c8e4",
   "metadata": {},
   "outputs": [],
   "source": []
  }
 ],
 "metadata": {
  "kernelspec": {
   "display_name": "Python 3",
   "language": "python",
   "name": "python3"
  },
  "language_info": {
   "codemirror_mode": {
    "name": "ipython",
    "version": 3
   },
   "file_extension": ".py",
   "mimetype": "text/x-python",
   "name": "python",
   "nbconvert_exporter": "python",
   "pygments_lexer": "ipython3",
   "version": "3.8.8"
  }
 },
 "nbformat": 4,
 "nbformat_minor": 5
}
