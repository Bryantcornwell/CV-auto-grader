{
 "cells": [
  {
   "cell_type": "code",
   "execution_count": 1,
   "id": "3dc0a223",
   "metadata": {},
   "outputs": [],
   "source": [
    "# Python program to explain cv2.erode() method\n",
    "\n",
    "# importing cv2\n",
    "import cv2\n",
    "\n",
    "# importing numpy\n",
    "import numpy as np\n",
    "\n",
    "# path\n",
    "path = r'/Users/lisun/Library/Mobile Documents/com~apple~CloudDocs/CoursesBACKUP/3rd_Semester/CSCI-B657ComputerVision/Assignments/assign1/sun79-brycornw-deduggi-a1/test-images/a-3.jpg'\n",
    "\n",
    "# Reading an image in default mode\n",
    "image = cv2.imread(path)\n",
    "\n",
    "# Window name in which image is displayed\n",
    "window_name = 'Image'\n",
    "\n",
    "# Creating kernel\n",
    "kernel = np.ones((5, 5), np.uint8)\n",
    "\n",
    "# Using cv2.erode() method\n",
    "image = cv2.erode(image, kernel)\n",
    "\n",
    "# Displaying the image\n",
    "cv2.imshow(window_name, image)\n"
   ]
  },
  {
   "cell_type": "code",
   "execution_count": 2,
   "id": "3682b6f3",
   "metadata": {},
   "outputs": [],
   "source": [
    "cv2.imshow(window_name, image)"
   ]
  },
  {
   "cell_type": "code",
   "execution_count": 2,
   "id": "86bfb05d",
   "metadata": {},
   "outputs": [],
   "source": [
    "import cv2 as cv\n",
    "import numpy as np\n",
    "\n",
    "def main():\n",
    "    src = cv.imread(\"/Users/lisun/Library/Mobile Documents/com~apple~CloudDocs/CoursesBACKUP/3rd_Semester/CSCI-B657ComputerVision/Assignments/assign1/sun79-brycornw-deduggi-a1/test-images/a-3.jpg\")\n",
    "    # 获取题目 1\n",
    "    roi_1 = src[38:60, 46:190]\n",
    "    cv.imshow(\"roi_1\", roi_1)\n",
    "    # 灰度图\n",
    "    gray = cv.cvtColor(roi_1, cv.COLOR_BGR2GRAY)\n",
    "    cv.imshow(\"gray\", gray)\n",
    "    # 二值化操作\n",
    "    ret, thresh = cv.threshold(gray, 0, 255, cv.THRESH_BINARY_INV | cv.THRESH_OTSU)\n",
    "    cv.imshow(\"thresh\", thresh)\n",
    "    # 腐蚀\n",
    "    kernel = np.ones((5, 5), np.uint8)\n",
    "    dst = cv.erode(thresh, kernel=kernel)\n",
    "    cv.imshow(\"dst\", dst)\n",
    "\n",
    "    cv.waitKey(0)\n",
    "\n",
    "if __name__ == '__main__':\n",
    "    main()"
   ]
  },
  {
   "cell_type": "code",
   "execution_count": null,
   "id": "399cf68e",
   "metadata": {},
   "outputs": [],
   "source": []
  },
  {
   "cell_type": "code",
   "execution_count": null,
   "id": "779958c5",
   "metadata": {},
   "outputs": [],
   "source": []
  }
 ],
 "metadata": {
  "kernelspec": {
   "display_name": "Python 3",
   "language": "python",
   "name": "python3"
  },
  "language_info": {
   "codemirror_mode": {
    "name": "ipython",
    "version": 3
   },
   "file_extension": ".py",
   "mimetype": "text/x-python",
   "name": "python",
   "nbconvert_exporter": "python",
   "pygments_lexer": "ipython3",
   "version": "3.8.8"
  }
 },
 "nbformat": 4,
 "nbformat_minor": 5
}
