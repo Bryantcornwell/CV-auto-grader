{
 "cells": [
  {
   "cell_type": "markdown",
   "id": "d3dca014",
   "metadata": {},
   "source": [
    "With 85 multiple-choice questions, mark these questions by 1, 2, 3, ..., 85    \n",
    "      \n",
    "Shuffle these 85 questions:        \n",
    " > 5 options of each question, Permutation(A,B,C,D,E) = 5 \\*4 \\*3 \\*2 \\*1 = 120  \n",
    " > denote by (85 rows \\* 120 columns) matrix, 85 \\*120 = 10200 units in the matrix   "
   ]
  },
  {
   "cell_type": "markdown",
   "id": "617fe08d",
   "metadata": {},
   "source": [
    "Create 100 unique exam booklets by:\n",
    "1. randomly pick one unit a time, and denote that unit by E(i)\n",
    "2. repeate step 1 and i=i+1\n",
    "3. end until i>99"
   ]
  },
  {
   "cell_type": "markdown",
   "id": "dd0f0d1b",
   "metadata": {},
   "source": [
    "#### Generate 100 barcodes for E(i), i = 0, 1, 2, ..., 99"
   ]
  },
  {
   "cell_type": "markdown",
   "id": "7341a827",
   "metadata": {},
   "source": [
    "reference of barcode generation part is from: https://www.geeksforgeeks.org/how-to-generate-barcode-in-python/"
   ]
  },
  {
   "cell_type": "markdown",
   "id": "8f42e476",
   "metadata": {},
   "source": [
    "##### .svg format"
   ]
  },
  {
   "cell_type": "code",
   "execution_count": 13,
   "id": "7bc209c8",
   "metadata": {},
   "outputs": [],
   "source": [
    "# with EAN8 barcode type\n",
    "from barcode import EAN8\n",
    "\n",
    "for i in range(15): # replace 15 by 100\n",
    "    # ensure passing the number as string\n",
    "    if i<10:\n",
    "        number = '0000000'+str(i)\n",
    "    else:\n",
    "        number = '000000'+str(i)\n",
    "    #print(number)\n",
    "\n",
    "    # create and save the barcode\n",
    "    my_code = EAN8(number)\n",
    "    my_code.save(\"new_code_svg\"+str(i))\n",
    "    \n",
    "    i+=1"
   ]
  },
  {
   "cell_type": "markdown",
   "id": "3bd654ee",
   "metadata": {},
   "source": [
    "##### .png format"
   ]
  },
  {
   "cell_type": "code",
   "execution_count": 17,
   "id": "af21d913",
   "metadata": {},
   "outputs": [],
   "source": [
    "from barcode import EAN8\n",
    "# import ImageWriter to generate an image file\n",
    "from barcode.writer import ImageWriter\n",
    "\n",
    "for i in range(15): # replace 15 by 100\n",
    "    # ensure passing the number as string\n",
    "    if i<10:\n",
    "        number = '0000000'+str(i)\n",
    "    else:\n",
    "        number = '000000'+str(i)\n",
    "    my_code = EAN8(number, writer=ImageWriter())\n",
    "    my_code.save(\"new_code_png\"+str(i))\n",
    "    i+=1\n"
   ]
  },
  {
   "cell_type": "markdown",
   "id": "e29b2491",
   "metadata": {},
   "source": [
    "#### Read the barcode"
   ]
  },
  {
   "cell_type": "code",
   "execution_count": 24,
   "id": "749378f0",
   "metadata": {},
   "outputs": [],
   "source": [
    "from pyzbar.pyzbar import decode"
   ]
  },
  {
   "cell_type": "code",
   "execution_count": 25,
   "id": "09464d33",
   "metadata": {},
   "outputs": [],
   "source": [
    "from PIL import Image\n",
    "img = Image.open('/Users/lisun/Library/Mobile Documents/com~apple~CloudDocs/CoursesBACKUP/3rd_Semester/CSCI-B657ComputerVision/Assignments/assign1/sun79-brycornw-deduggi-a1/testByLi/new_code_png0.png')"
   ]
  },
  {
   "cell_type": "code",
   "execution_count": 28,
   "id": "333e09e4",
   "metadata": {},
   "outputs": [
    {
     "name": "stdout",
     "output_type": "stream",
     "text": [
      "00000000\n"
     ]
    }
   ],
   "source": [
    "result = decode(img)\n",
    "for i in result:\n",
    "    print(i.data.decode(\"utf-8\"))"
   ]
  },
  {
   "cell_type": "markdown",
   "id": "5716dbd3",
   "metadata": {},
   "source": [
    "## Code above is created as a reference of pipeline"
   ]
  },
  {
   "cell_type": "markdown",
   "id": "f81df17c",
   "metadata": {},
   "source": [
    "## To-do 1: inject the barcode to given test-image;  extract from the test-image"
   ]
  },
  {
   "cell_type": "markdown",
   "id": "f2ca7981",
   "metadata": {},
   "source": [
    "## To-do 2: no other libraries related to CV except Pillow"
   ]
  },
  {
   "cell_type": "code",
   "execution_count": null,
   "id": "95a03e87",
   "metadata": {},
   "outputs": [],
   "source": []
  }
 ],
 "metadata": {
  "kernelspec": {
   "display_name": "Python 3",
   "language": "python",
   "name": "python3"
  },
  "language_info": {
   "codemirror_mode": {
    "name": "ipython",
    "version": 3
   },
   "file_extension": ".py",
   "mimetype": "text/x-python",
   "name": "python",
   "nbconvert_exporter": "python",
   "pygments_lexer": "ipython3",
   "version": "3.8.8"
  }
 },
 "nbformat": 4,
 "nbformat_minor": 5
}
