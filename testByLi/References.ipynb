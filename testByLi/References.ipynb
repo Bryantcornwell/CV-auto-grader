{
 "cells": [
  {
   "cell_type": "markdown",
   "id": "b01a0aae",
   "metadata": {},
   "source": [
    "https://medium.com/@joel.barmettler/this-little-image-classifier-is-a-showcase-of-how-easy-it-is-to-create-a-functional-image-a959bdad9f05"
   ]
  }
 ],
 "metadata": {
  "kernelspec": {
   "display_name": "Python 3",
   "language": "python",
   "name": "python3"
  },
  "language_info": {
   "codemirror_mode": {
    "name": "ipython",
    "version": 3
   },
   "file_extension": ".py",
   "mimetype": "text/x-python",
   "name": "python",
   "nbconvert_exporter": "python",
   "pygments_lexer": "ipython3",
   "version": "3.8.8"
  }
 },
 "nbformat": 4,
 "nbformat_minor": 5
}
