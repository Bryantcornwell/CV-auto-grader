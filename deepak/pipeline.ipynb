{
 "cells": [
  {
   "cell_type": "code",
   "execution_count": 1,
   "id": "3e001c5a-ad85-4a81-91a4-752de408d2db",
   "metadata": {},
   "outputs": [],
   "source": [
    "%matplotlib inline\n",
    "import matplotlib as mpl\n",
    "mpl.rcParams['figure.dpi']= 120"
   ]
  },
  {
   "cell_type": "code",
   "execution_count": 23,
   "id": "c357519c-d10a-4a8e-82db-3ecfb88c09ee",
   "metadata": {},
   "outputs": [],
   "source": [
    "import numpy as np\n",
    "import cv2\n",
    "import matplotlib.pyplot as plt\n",
    "from matplotlib.patches import Rectangle\n",
    "import os\n",
    "from collections import defaultdict"
   ]
  },
  {
   "cell_type": "code",
   "execution_count": 3,
   "id": "60b03e60-281a-424a-bb5b-997c8d825135",
   "metadata": {},
   "outputs": [],
   "source": [
    "def load_and_preprocess(fname):\n",
    "    gray = cv2.imread(fname, cv2.IMREAD_GRAYSCALE)\n",
    "    blurred = cv2.GaussianBlur(gray, (5,5), 0)\n",
    "    blurred_cropped = blurred[600:, :]\n",
    "    (T, threshinv) = cv2.threshold(blurred_cropped, 200, 255, cv2.THRESH_BINARY_INV)\n",
    "    return threshinv"
   ]
  },
  {
   "cell_type": "code",
   "execution_count": 4,
   "id": "e6dce8f8-0dad-4e59-afe0-dcdf550be6b6",
   "metadata": {},
   "outputs": [],
   "source": [
    "def slope_close_to(theta, theta_0, tol=5):\n",
    "    # theta - rad\n",
    "    # theta_0 - deg\n",
    "    # tol - deg\n",
    "    # deg angles range from [-90,90], theta is converted to this scale\n",
    "    theta_1 = (180/np.pi)*theta.copy()\n",
    "    theta_1[theta_1>90] = theta_1[theta_1>90]-180\n",
    "    return np.isclose(theta_1, theta_0, atol=tol)"
   ]
  },
  {
   "cell_type": "code",
   "execution_count": 5,
   "id": "63f29fda-30e6-4d52-8f1f-9cf9e279342a",
   "metadata": {},
   "outputs": [],
   "source": [
    "def merge_lines(lines, ro_tol=2):\n",
    "    # lines: nx2 matrix, first column is ro and second column is theta\n",
    "    # parallel lines\n",
    "    # keeps the left most line\n",
    "    # returns a mask that works on sorted lines on ro\n",
    "    \n",
    "    sorted_ros = lines[:,0]\n",
    "    \n",
    "    mask = np.zeros(lines.shape[0], dtype=np.bool8)\n",
    "    \n",
    "    if len(lines) == 0:\n",
    "        return mask\n",
    "\n",
    "    mask[0] = True\n",
    "    prev_ro = sorted_ros[0]\n",
    "    \n",
    "    for i,ro in enumerate(sorted_ros[1:]):\n",
    "        i+=1\n",
    "        if np.isclose(ro, prev_ro, atol=ro_tol):\n",
    "            continue\n",
    "        else:\n",
    "            mask[i] = True\n",
    "            prev_ro = ro\n",
    "            \n",
    "    return mask"
   ]
  },
  {
   "cell_type": "code",
   "execution_count": 12,
   "id": "00a49535-fd4a-403d-9f46-eb3db1e57a50",
   "metadata": {},
   "outputs": [],
   "source": [
    "def get_vertical_lines(img):\n",
    "    lines = np.abs(cv2.HoughLines(img,1/4,np.pi/(4*180),300).squeeze())\n",
    "    sorted_lines = lines[np.argsort(lines[:,0])]\n",
    "    vertical_lines = sorted_lines[slope_close_to(sorted_lines[:,1], 0, tol=15)]\n",
    "    vertical_lines_merged = vertical_lines[merge_lines(vertical_lines, ro_tol=10)]\n",
    "    return vertical_lines_merged"
   ]
  },
  {
   "cell_type": "code",
   "execution_count": 32,
   "id": "31feb9e9-c0a6-4908-90c9-2c8e86b16e3a",
   "metadata": {},
   "outputs": [],
   "source": [
    "def patches(img, vertical_lines, stack, sub_stack, col=None):\n",
    "    y1,y2 = 0,img.shape[0]\n",
    "    \n",
    "    if sub_stack == 0:\n",
    "        x1= 0 if stack==0 else int(vertical_lines[22*stack-1,0])\n",
    "        x2=int(vertical_lines[22*stack,0])\n",
    "    elif sub_stack == 1:\n",
    "        x1=int(vertical_lines[22*stack,0])\n",
    "        x2=int(vertical_lines[22*stack+2,0])\n",
    "    else:\n",
    "        if col is None:\n",
    "            x1=int(vertical_lines[22*stack+2,0])\n",
    "            x2=int(vertical_lines[22*stack+21,0])\n",
    "        else:\n",
    "            x1=int(vertical_lines[22*stack+2+4*col,0])\n",
    "            x2=int(vertical_lines[22*stack+2+4*col+3,0])\n",
    "    \n",
    "    # print(x1,x2,y1,y2)\n",
    "    return img[y1:y2, x1:x2]"
   ]
  },
  {
   "cell_type": "code",
   "execution_count": 9,
   "id": "087947d9-24c4-4f98-b1be-7e220afe6311",
   "metadata": {},
   "outputs": [],
   "source": [
    "def connected_components(data):\n",
    "    labels = np.zeros_like(data).astype(np.uint64)\n",
    "    n = 0\n",
    "    for i in range(len(data[1:])):\n",
    "        left = data[i-1]\n",
    "        if data[i] != 0:\n",
    "            if left == 0:\n",
    "                n += 1\n",
    "                labels[i] = n\n",
    "            else:\n",
    "                labels[i] = n\n",
    "            \n",
    "    return labels"
   ]
  },
  {
   "cell_type": "code",
   "execution_count": 34,
   "id": "e9080cc8-a8cd-45e7-8ff1-c3ea1f102925",
   "metadata": {},
   "outputs": [],
   "source": [
    "def segment(p, min_width=25, min_intensity=180):\n",
    "    data = np.sum(p, axis=1)/p.shape[1]\n",
    "    data_thresh = data.copy()\n",
    "    data_thresh[data_thresh<20] = 0\n",
    "    cc = connected_components(data_thresh)\n",
    "    \n",
    "    # remove components with width less than min_width\n",
    "    labels = set(np.unique(cc))-{0}\n",
    "    for c in labels:\n",
    "        if cc[cc==c].shape[0] < 20:\n",
    "            cc[cc==c] = 0\n",
    "            \n",
    "    labels = set(np.unique(cc))-{0}\n",
    "    \n",
    "    # calculate average intensity of each component\n",
    "    avg_intensity = np.zeros(len(labels))\n",
    "    for i,c in enumerate(labels):\n",
    "        avg_intensity[i] = np.mean(data_thresh[cc==c])\n",
    "    \n",
    "    # map components with intensity less than min_intensity as 0 (unfilled) otherwise 1 (filled)\n",
    "    return [1 if i > min_intensity else 0 for i in avg_intensity]\n",
    "    "
   ]
  },
  {
   "cell_type": "code",
   "execution_count": 52,
   "id": "2b4c084e-3ac8-416a-b558-2e8788fa226a",
   "metadata": {},
   "outputs": [],
   "source": [
    "img = load_and_preprocess('../test-images/a-3.jpg')\n",
    "vertical_lines = get_vertical_lines(img)"
   ]
  },
  {
   "cell_type": "code",
   "execution_count": 66,
   "id": "c1365ee8-1efe-49b3-9230-e1ff6ab0d32b",
   "metadata": {},
   "outputs": [
    {
     "name": "stdout",
     "output_type": "stream",
     "text": [
      "0 0 29\n",
      "0 1 29\n",
      "0 2 29\n",
      "0 3 29\n",
      "0 4 29\n",
      "1 0 29\n",
      "1 1 29\n",
      "1 2 29\n",
      "1 3 29\n",
      "1 4 29\n",
      "2 0 27\n",
      "0\n",
      "2 1 27\n",
      "2 2 27\n",
      "2\n",
      "2 3 27\n",
      "2 4 27\n"
     ]
    }
   ],
   "source": [
    "answers = defaultdict(list)\n",
    "for stack in [0,1,2]:\n",
    "    for col in [0,1,2,3,4]:\n",
    "        p = patches(img, vertical_lines, stack=stack, sub_stack=2, col=col)\n",
    "        qnum_start = 29*stack\n",
    "        filled = segment(p, min_width=25, min_intensity=180)\n",
    "        print(stack, col, len(filled))\n",
    "        for i,f in enumerate(filled):\n",
    "            if f==1:\n",
    "                q_num = qnum_start + i + 1\n",
    "                answers[q_num].append(col)"
   ]
  },
  {
   "cell_type": "code",
   "execution_count": 54,
   "id": "02ff7ddf-7fa0-40b4-bbe3-6901011bd5ac",
   "metadata": {},
   "outputs": [],
   "source": [
    "answers_str = [f'{i} {\"\".join([chr(ord(\"A\")+a) for a in anss])}' for i, anss in sorted(answers.items())]"
   ]
  },
  {
   "cell_type": "code",
   "execution_count": 55,
   "id": "cb80c6c1-8489-48a2-95f1-4c9993c8f575",
   "metadata": {},
   "outputs": [],
   "source": [
    "with open('a-3_results.txt', 'w') as f:\n",
    "    f.write('\\n'.join(answers_str))"
   ]
  },
  {
   "cell_type": "code",
   "execution_count": 65,
   "id": "34645e2f-670c-43c4-a7df-916cc82783a2",
   "metadata": {},
   "outputs": [
    {
     "data": {
      "text/plain": [
       "[1,\n",
       " 0,\n",
       " 0,\n",
       " 0,\n",
       " 0,\n",
       " 1,\n",
       " 0,\n",
       " 0,\n",
       " 1,\n",
       " 0,\n",
       " 0,\n",
       " 0,\n",
       " 0,\n",
       " 0,\n",
       " 0,\n",
       " 0,\n",
       " 1,\n",
       " 0,\n",
       " 0,\n",
       " 0,\n",
       " 1,\n",
       " 0,\n",
       " 0,\n",
       " 0,\n",
       " 0,\n",
       " 0,\n",
       " 0]"
      ]
     },
     "execution_count": 65,
     "metadata": {},
     "output_type": "execute_result"
    }
   ],
   "source": [
    "segment(p, min_width=25, min_intensity=180)"
   ]
  },
  {
   "cell_type": "code",
   "execution_count": 64,
   "id": "b277bc3b-44df-4517-b1e9-da695f2fd4fc",
   "metadata": {},
   "outputs": [
    {
     "data": {
      "text/plain": [
       "<matplotlib.image.AxesImage at 0x114c8a070>"
      ]
     },
     "execution_count": 64,
     "metadata": {},
     "output_type": "execute_result"
    },
    {
     "data": {
      "image/png": "[encoded data removed]",
      "text/plain": [
       "<Figure size 1200x1440 with 1 Axes>"
      ]
     },
     "metadata": {
      "needs_background": "light"
     },
     "output_type": "display_data"
    }
   ],
   "source": [
    "p = patches(img, vertical_lines, stack=2, sub_stack=2, col=2)\n",
    "plt.figure(figsize=(10,12))\n",
    "plt.imshow(p, cmap='gray')"
   ]
  },
  {
   "cell_type": "code",
   "execution_count": 20,
   "id": "bc36f31d-6df9-4829-909f-f05b2bd97eab",
   "metadata": {},
   "outputs": [
    {
     "data": {
      "text/plain": [
       "[0,\n",
       " 0,\n",
       " 0,\n",
       " 1,\n",
       " 0,\n",
       " 0,\n",
       " 0,\n",
       " 0,\n",
       " 0,\n",
       " 0,\n",
       " 0,\n",
       " 0,\n",
       " 0,\n",
       " 0,\n",
       " 0,\n",
       " 0,\n",
       " 1,\n",
       " 0,\n",
       " 0,\n",
       " 0,\n",
       " 0,\n",
       " 0,\n",
       " 0,\n",
       " 0,\n",
       " 0,\n",
       " 1,\n",
       " 1,\n",
       " 0]"
      ]
     },
     "execution_count": 20,
     "metadata": {},
     "output_type": "execute_result"
    }
   ],
   "source": [
    "segment(p, min_width=25, min_intensity=180)"
   ]
  },
  {
   "cell_type": "code",
   "execution_count": 22,
   "id": "fc6db834-6b77-421f-bcdc-5de1adf3dd0b",
   "metadata": {},
   "outputs": [],
   "source": [
    "x={}\n",
    "x[(1,2)]=3"
   ]
  }
 ],
 "metadata": {
  "kernelspec": {
   "display_name": "Python 3 (ipykernel)",
   "language": "python",
   "name": "python3"
  },
  "language_info": {
   "codemirror_mode": {
    "name": "ipython",
    "version": 3
   },
   "file_extension": ".py",
   "mimetype": "text/x-python",
   "name": "python",
   "nbconvert_exporter": "python",
   "pygments_lexer": "ipython3",
   "version": "3.9.6"
  }
 },
 "nbformat": 4,
 "nbformat_minor": 5
}
