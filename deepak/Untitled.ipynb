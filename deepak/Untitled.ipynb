{
 "cells": [
  {
   "cell_type": "code",
   "execution_count": 3,
   "id": "f20cff39-4abc-40af-a088-ee7c87dfa402",
   "metadata": {},
   "outputs": [],
   "source": [
    "with open('../test-images/a-30_groundtruth.txt') as f:\n",
    "    lines = f.read().split('\\n')"
   ]
  },
  {
   "cell_type": "code",
   "execution_count": 8,
   "id": "8d2fc3a9-5969-407e-a061-b67fab482434",
   "metadata": {},
   "outputs": [],
   "source": [
    "with open('../test-images/a-30_groundtruth.txt', 'w') as f:\n",
    "    f.write('\\n'.join([f'{i+1} {l}' for i, l in enumerate(lines)]))"
   ]
  }
 ],
 "metadata": {
  "kernelspec": {
   "display_name": "Python 3 (ipykernel)",
   "language": "python",
   "name": "python3"
  },
  "language_info": {
   "codemirror_mode": {
    "name": "ipython",
    "version": 3
   },
   "file_extension": ".py",
   "mimetype": "text/x-python",
   "name": "python",
   "nbconvert_exporter": "python",
   "pygments_lexer": "ipython3",
   "version": "3.9.6"
  }
 },
 "nbformat": 4,
 "nbformat_minor": 5
}
